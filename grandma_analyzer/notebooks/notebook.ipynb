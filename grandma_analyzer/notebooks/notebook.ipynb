{
 "cells": [
  {
   "cell_type": "code",
   "execution_count": 1,
   "outputs": [
    {
     "name": "stdout",
     "output_type": "stream",
     "text": [
      "env: MONGODB_URI=localhost\n",
      "env: MONGODB_PORT=27017\n",
      "env: MONGODB_DB_NAME=grandmaScraperFinal\n",
      "env: SKIP_CERT_DOMAINS_CHECK=True\n"
     ]
    }
   ],
   "source": [
    "%env MONGODB_URI=localhost\n",
    "%env MONGODB_PORT=27017\n",
    "%env MONGODB_DB_NAME=grandmaScraperFinal\n",
    "\n",
    "%env SKIP_CERT_DOMAINS_CHECK=True"
   ],
   "metadata": {
    "collapsed": false,
    "ExecuteTime": {
     "end_time": "2023-06-12T20:09:39.734923500Z",
     "start_time": "2023-06-12T20:09:39.724923100Z"
    }
   }
  },
  {
   "cell_type": "code",
   "execution_count": 8,
   "metadata": {
    "collapsed": true,
    "ExecuteTime": {
     "end_time": "2023-06-12T20:28:03.628849700Z",
     "start_time": "2023-06-12T20:28:03.611070500Z"
    }
   },
   "outputs": [],
   "source": [
    "from enum import Enum\n",
    "from sklearn.utils import shuffle\n",
    "from sklearn import tree\n",
    "import pandas as pd\n",
    "from sklearn.model_selection import train_test_split\n",
    "from grandma_analyzer.parser import ParsedSite\n",
    "from grandma_analyzer.parser import parse_sites\n",
    "\n",
    "from sklearn.neural_network import MLPClassifier\n",
    "from sklearn.neighbors import KNeighborsClassifier\n",
    "from sklearn.svm import SVC\n",
    "from sklearn.gaussian_process import GaussianProcessClassifier\n",
    "from sklearn.gaussian_process.kernels import RBF\n",
    "from sklearn.tree import DecisionTreeClassifier\n",
    "from sklearn.ensemble import RandomForestClassifier, AdaBoostClassifier\n",
    "from sklearn.naive_bayes import GaussianNB, ComplementNB, MultinomialNB, BernoulliNB, CategoricalNB\n",
    "from sklearn.discriminant_analysis import QuadraticDiscriminantAnalysis"
   ]
  },
  {
   "cell_type": "code",
   "execution_count": 3,
   "outputs": [],
   "source": [
    "class AvailablePredictionModels(Enum):\n",
    "    DECISION_TREE = DecisionTreeClassifier()\n",
    "    RANDOM_FOREST = RandomForestClassifier(n_estimators=100)\n",
    "    NEURAL_NETWORK = MLPClassifier(max_iter=1000)\n",
    "    K_NEIGHBORS = KNeighborsClassifier()\n",
    "    SUPPORT_VECTOR_MACHINE = SVC()\n",
    "    GAUSSIAN_PROCESS = GaussianProcessClassifier(1.0 * RBF(1.0))\n",
    "    ADABOOST = AdaBoostClassifier(learning_rate=0.55)\n",
    "    NAIVE_BAYES = GaussianNB()\n",
    "    QUADRATIC_DISCRIMINANT_ANALYSIS = QuadraticDiscriminantAnalysis()"
   ],
   "metadata": {
    "collapsed": false,
    "ExecuteTime": {
     "end_time": "2023-06-12T20:09:40.624924400Z",
     "start_time": "2023-06-12T20:09:40.609928500Z"
    }
   }
  },
  {
   "cell_type": "code",
   "execution_count": 4,
   "outputs": [],
   "source": [
    "def build_model_return_predictions(model, train_samples, train_classes, test_samples):\n",
    "    classifier = model.fit(train_samples, train_classes)\n",
    "    return classifier.predict(test_samples), classifier"
   ],
   "metadata": {
    "collapsed": false,
    "ExecuteTime": {
     "end_time": "2023-06-12T20:09:40.651924100Z",
     "start_time": "2023-06-12T20:09:40.626926200Z"
    }
   }
  },
  {
   "cell_type": "code",
   "execution_count": 5,
   "outputs": [],
   "source": [
    "parsed_list = parse_sites()"
   ],
   "metadata": {
    "collapsed": false,
    "ExecuteTime": {
     "end_time": "2023-06-12T20:09:52.942609Z",
     "start_time": "2023-06-12T20:09:41.345116700Z"
    }
   }
  },
  {
   "cell_type": "code",
   "execution_count": 7,
   "outputs": [
    {
     "data": {
      "text/plain": "      subdomain_count  redirect_subdomain_count  link_length  \\\n0                   2                         2           20   \n1                   2                         2           21   \n2                   2                         2           23   \n3                   4                         2           61   \n4                   6                         2           89   \n...               ...                       ...          ...   \n4022                3                         3           37   \n4023                3                         3           43   \n4024                3                         3           32   \n4025                3                         3           33   \n4026                3                         3           31   \n\n      redirect_link_length   tld  redirect_bool redirect_specific http_info  \\\n0                       21  None           True        https-only      http   \n1                       21  None          False              None      http   \n2                      197  None           True        off-domain     https   \n3                      210  None           True        off-domain      http   \n4                      206  None           True        off-domain     https   \n...                    ...   ...            ...               ...       ...   \n4022                    34  None           True        off-domain     https   \n4023                    43  None          False              None     https   \n4024                    32  None          False              None      http   \n4025                    33  None          False              None      http   \n4026                    31  None          False              None      http   \n\n     http_info_redirect registrar registrant registrant_country  \\\n0                 https      None       None               None   \n1                  http      None       None               None   \n2                 https      None       None               None   \n3                 https      None       None               None   \n4                 https      None       None               None   \n...                 ...       ...        ...                ...   \n4022               http      None       None               None   \n4023              https      None       None               None   \n4024               http      None       None               None   \n4025               http      None       None               None   \n4026               http      None       None               None   \n\n     registrant_email_domains                             asnname  tls_age  \\\n0                        None                          AS-REG, RU      5.0   \n1                        None                   CLOUDFLARENET, US      NaN   \n2                        None                   CLOUDFLARENET, US      7.0   \n3                        None                   CLOUDFLARENET, US      6.0   \n4                        None                   CLOUDFLARENET, US      6.0   \n...                       ...                                 ...      ...   \n4022                     None                   CLOUDFLARENET, US      NaN   \n4023                     None                   CLOUDFLARENET, US      1.0   \n4024                     None  DEDICATED-FIBER-COMMUNICATIONS, US      NaN   \n4025                     None  DEDICATED-FIBER-COMMUNICATIONS, US      NaN   \n4026                     None  DEDICATED-FIBER-COMMUNICATIONS, US      NaN   \n\n                                             page_title  \\\n0     Tunele foliowe – Szybka dostawa. Codzienna wys...   \n1                                         404 Not Found   \n2            [Masz (1) przesyłkę oczekującą na dostawę.   \n3                                         Support Chat    \n4                                         Cloud Storage   \n...                                                 ...   \n4022                                      captcha.title   \n4023                                          Not found   \n4024  Ile możesz otrzymać na inwestycjach?mdi-accoun...   \n4025  Ile możesz otrzymać na inwestycjach?mdi-accoun...   \n4026  Ile możesz otrzymać na inwestycjach?mdi-accoun...   \n\n      redirected_link_entropy  site_links_count  site_images_count  \n0                    3.558519              44.0               17.0  \n1                    3.594466               0.0                0.0  \n2                    4.897371               0.0                0.0  \n3                    4.990006               0.0                0.0  \n4                    4.966357               0.0                0.0  \n...                       ...               ...                ...  \n4022                 4.079679               1.0                1.0  \n4023                 4.518833               0.0                0.0  \n4024                 3.965018               0.0                8.0  \n4025                 4.089552               0.0                8.0  \n4026                 4.171465               0.0                8.0  \n\n[4027 rows x 19 columns]",
      "text/html": "<div>\n<style scoped>\n    .dataframe tbody tr th:only-of-type {\n        vertical-align: middle;\n    }\n\n    .dataframe tbody tr th {\n        vertical-align: top;\n    }\n\n    .dataframe thead th {\n        text-align: right;\n    }\n</style>\n<table border=\"1\" class=\"dataframe\">\n  <thead>\n    <tr style=\"text-align: right;\">\n      <th></th>\n      <th>subdomain_count</th>\n      <th>redirect_subdomain_count</th>\n      <th>link_length</th>\n      <th>redirect_link_length</th>\n      <th>tld</th>\n      <th>redirect_bool</th>\n      <th>redirect_specific</th>\n      <th>http_info</th>\n      <th>http_info_redirect</th>\n      <th>registrar</th>\n      <th>registrant</th>\n      <th>registrant_country</th>\n      <th>registrant_email_domains</th>\n      <th>asnname</th>\n      <th>tls_age</th>\n      <th>page_title</th>\n      <th>redirected_link_entropy</th>\n      <th>site_links_count</th>\n      <th>site_images_count</th>\n    </tr>\n  </thead>\n  <tbody>\n    <tr>\n      <th>0</th>\n      <td>2</td>\n      <td>2</td>\n      <td>20</td>\n      <td>21</td>\n      <td>None</td>\n      <td>True</td>\n      <td>https-only</td>\n      <td>http</td>\n      <td>https</td>\n      <td>None</td>\n      <td>None</td>\n      <td>None</td>\n      <td>None</td>\n      <td>AS-REG, RU</td>\n      <td>5.0</td>\n      <td>Tunele foliowe – Szybka dostawa. Codzienna wys...</td>\n      <td>3.558519</td>\n      <td>44.0</td>\n      <td>17.0</td>\n    </tr>\n    <tr>\n      <th>1</th>\n      <td>2</td>\n      <td>2</td>\n      <td>21</td>\n      <td>21</td>\n      <td>None</td>\n      <td>False</td>\n      <td>None</td>\n      <td>http</td>\n      <td>http</td>\n      <td>None</td>\n      <td>None</td>\n      <td>None</td>\n      <td>None</td>\n      <td>CLOUDFLARENET, US</td>\n      <td>NaN</td>\n      <td>404 Not Found</td>\n      <td>3.594466</td>\n      <td>0.0</td>\n      <td>0.0</td>\n    </tr>\n    <tr>\n      <th>2</th>\n      <td>2</td>\n      <td>2</td>\n      <td>23</td>\n      <td>197</td>\n      <td>None</td>\n      <td>True</td>\n      <td>off-domain</td>\n      <td>https</td>\n      <td>https</td>\n      <td>None</td>\n      <td>None</td>\n      <td>None</td>\n      <td>None</td>\n      <td>CLOUDFLARENET, US</td>\n      <td>7.0</td>\n      <td>[Masz (1) przesyłkę oczekującą na dostawę.</td>\n      <td>4.897371</td>\n      <td>0.0</td>\n      <td>0.0</td>\n    </tr>\n    <tr>\n      <th>3</th>\n      <td>4</td>\n      <td>2</td>\n      <td>61</td>\n      <td>210</td>\n      <td>None</td>\n      <td>True</td>\n      <td>off-domain</td>\n      <td>http</td>\n      <td>https</td>\n      <td>None</td>\n      <td>None</td>\n      <td>None</td>\n      <td>None</td>\n      <td>CLOUDFLARENET, US</td>\n      <td>6.0</td>\n      <td>Support Chat</td>\n      <td>4.990006</td>\n      <td>0.0</td>\n      <td>0.0</td>\n    </tr>\n    <tr>\n      <th>4</th>\n      <td>6</td>\n      <td>2</td>\n      <td>89</td>\n      <td>206</td>\n      <td>None</td>\n      <td>True</td>\n      <td>off-domain</td>\n      <td>https</td>\n      <td>https</td>\n      <td>None</td>\n      <td>None</td>\n      <td>None</td>\n      <td>None</td>\n      <td>CLOUDFLARENET, US</td>\n      <td>6.0</td>\n      <td>Cloud Storage</td>\n      <td>4.966357</td>\n      <td>0.0</td>\n      <td>0.0</td>\n    </tr>\n    <tr>\n      <th>...</th>\n      <td>...</td>\n      <td>...</td>\n      <td>...</td>\n      <td>...</td>\n      <td>...</td>\n      <td>...</td>\n      <td>...</td>\n      <td>...</td>\n      <td>...</td>\n      <td>...</td>\n      <td>...</td>\n      <td>...</td>\n      <td>...</td>\n      <td>...</td>\n      <td>...</td>\n      <td>...</td>\n      <td>...</td>\n      <td>...</td>\n      <td>...</td>\n    </tr>\n    <tr>\n      <th>4022</th>\n      <td>3</td>\n      <td>3</td>\n      <td>37</td>\n      <td>34</td>\n      <td>None</td>\n      <td>True</td>\n      <td>off-domain</td>\n      <td>https</td>\n      <td>http</td>\n      <td>None</td>\n      <td>None</td>\n      <td>None</td>\n      <td>None</td>\n      <td>CLOUDFLARENET, US</td>\n      <td>NaN</td>\n      <td>captcha.title</td>\n      <td>4.079679</td>\n      <td>1.0</td>\n      <td>1.0</td>\n    </tr>\n    <tr>\n      <th>4023</th>\n      <td>3</td>\n      <td>3</td>\n      <td>43</td>\n      <td>43</td>\n      <td>None</td>\n      <td>False</td>\n      <td>None</td>\n      <td>https</td>\n      <td>https</td>\n      <td>None</td>\n      <td>None</td>\n      <td>None</td>\n      <td>None</td>\n      <td>CLOUDFLARENET, US</td>\n      <td>1.0</td>\n      <td>Not found</td>\n      <td>4.518833</td>\n      <td>0.0</td>\n      <td>0.0</td>\n    </tr>\n    <tr>\n      <th>4024</th>\n      <td>3</td>\n      <td>3</td>\n      <td>32</td>\n      <td>32</td>\n      <td>None</td>\n      <td>False</td>\n      <td>None</td>\n      <td>http</td>\n      <td>http</td>\n      <td>None</td>\n      <td>None</td>\n      <td>None</td>\n      <td>None</td>\n      <td>DEDICATED-FIBER-COMMUNICATIONS, US</td>\n      <td>NaN</td>\n      <td>Ile możesz otrzymać na inwestycjach?mdi-accoun...</td>\n      <td>3.965018</td>\n      <td>0.0</td>\n      <td>8.0</td>\n    </tr>\n    <tr>\n      <th>4025</th>\n      <td>3</td>\n      <td>3</td>\n      <td>33</td>\n      <td>33</td>\n      <td>None</td>\n      <td>False</td>\n      <td>None</td>\n      <td>http</td>\n      <td>http</td>\n      <td>None</td>\n      <td>None</td>\n      <td>None</td>\n      <td>None</td>\n      <td>DEDICATED-FIBER-COMMUNICATIONS, US</td>\n      <td>NaN</td>\n      <td>Ile możesz otrzymać na inwestycjach?mdi-accoun...</td>\n      <td>4.089552</td>\n      <td>0.0</td>\n      <td>8.0</td>\n    </tr>\n    <tr>\n      <th>4026</th>\n      <td>3</td>\n      <td>3</td>\n      <td>31</td>\n      <td>31</td>\n      <td>None</td>\n      <td>False</td>\n      <td>None</td>\n      <td>http</td>\n      <td>http</td>\n      <td>None</td>\n      <td>None</td>\n      <td>None</td>\n      <td>None</td>\n      <td>DEDICATED-FIBER-COMMUNICATIONS, US</td>\n      <td>NaN</td>\n      <td>Ile możesz otrzymać na inwestycjach?mdi-accoun...</td>\n      <td>4.171465</td>\n      <td>0.0</td>\n      <td>8.0</td>\n    </tr>\n  </tbody>\n</table>\n<p>4027 rows × 19 columns</p>\n</div>"
     },
     "execution_count": 7,
     "metadata": {},
     "output_type": "execute_result"
    }
   ],
   "source": [
    "\n",
    "fake_df = pd.DataFrame(parsed_list, columns=ParsedSite.get_field_names())\n",
    "fake_df"
   ],
   "metadata": {
    "collapsed": false,
    "ExecuteTime": {
     "end_time": "2023-06-12T20:14:30.617078200Z",
     "start_time": "2023-06-12T20:14:30.570077400Z"
    }
   }
  },
  {
   "cell_type": "code",
   "execution_count": null,
   "outputs": [],
   "source": [],
   "metadata": {
    "collapsed": false
   }
  },
  {
   "cell_type": "markdown",
   "source": [
    "statystyki z pól df\n",
    "z danych liczbowych jakieś wykresy/histogramy\n",
    "z tekstowych policzenie\n",
    "tabelka z podsumowaniem\n",
    "tabelka korelacji parametrów\n",
    "jak parametr zbyt płaski to może x^2"
   ],
   "metadata": {
    "collapsed": false
   }
  },
  {
   "cell_type": "code",
   "execution_count": null,
   "outputs": [],
   "source": [
    "df = pd.DataFrame({\n",
    "    'Feature1': [1, 2, 3, 4, 5],\n",
    "    'Feature2': ['A', 'B', 'C', 'D', 'E'],\n",
    "    'malware': [True, False, False, True, True]\n",
    "})\n",
    "\n",
    "# Separate the features and target variable\n",
    "features = df[['Feature1', 'Feature2']]\n",
    "classes = df['malware']\n",
    "\n",
    "# Split the data into training and testing datasets\n",
    "X_train, X_test, y_train, y_test = train_test_split(features, classes, test_size=0.2, random_state=42)\n",
    "\n",
    "# Display the training dataset\n",
    "print(\"Training Dataset:\")\n",
    "print(X_train)\n",
    "print(y_train)\n",
    "\n",
    "# Display the testing dataset\n",
    "print(\"Testing Dataset:\")\n",
    "print(X_test)\n",
    "print(y_test)"
   ],
   "metadata": {
    "collapsed": false
   }
  }
 ],
 "metadata": {
  "kernelspec": {
   "name": "python3",
   "language": "python",
   "display_name": "Python 3 (ipykernel)"
  },
  "language_info": {
   "codemirror_mode": {
    "name": "ipython",
    "version": 2
   },
   "file_extension": ".py",
   "mimetype": "text/x-python",
   "name": "python",
   "nbconvert_exporter": "python",
   "pygments_lexer": "ipython2",
   "version": "2.7.6"
  }
 },
 "nbformat": 4,
 "nbformat_minor": 0
}
