{
 "cells": [
  {
   "cell_type": "code",
   "execution_count": 2,
   "metadata": {
    "collapsed": true,
    "ExecuteTime": {
     "end_time": "2023-06-13T16:57:19.654671900Z",
     "start_time": "2023-06-13T16:57:18.152676500Z"
    }
   },
   "outputs": [],
   "source": [
    "import pandas as pd\n",
    "from sklearn.model_selection import train_test_split\n",
    "from sklearn.metrics import accuracy_score, precision_score, recall_score, f1_score\n",
    "\n",
    "\n",
    "from sklearn.neural_network import MLPClassifier\n",
    "from sklearn.neighbors import KNeighborsClassifier\n",
    "from sklearn.svm import SVC\n",
    "from sklearn.gaussian_process import GaussianProcessClassifier\n",
    "from sklearn.gaussian_process.kernels import RBF\n",
    "from sklearn.tree import DecisionTreeClassifier\n",
    "from sklearn.ensemble import RandomForestClassifier, AdaBoostClassifier\n",
    "from sklearn.naive_bayes import GaussianNB, ComplementNB, MultinomialNB, BernoulliNB, CategoricalNB\n",
    "from sklearn.discriminant_analysis import QuadraticDiscriminantAnalysis"
   ]
  },
  {
   "cell_type": "code",
   "execution_count": 3,
   "outputs": [],
   "source": [
    "AVAILABLE_MODELS = {\n",
    "    'DECISION_TREE': DecisionTreeClassifier(),\n",
    "    'RANDOM_FOREST': RandomForestClassifier(n_estimators=100),\n",
    "    'NEURAL_NETWORK': MLPClassifier(max_iter=1000),\n",
    "    'K_NEIGHBORS': KNeighborsClassifier(),\n",
    "    'SUPPORT_VECTOR_MACHINE': SVC(),\n",
    "    #'GAUSSIAN_PROCESS': GaussianProcessClassifier(1.0 * RBF(1.0)), # to trwa tak z 2 lata nauka, wywalam xD\n",
    "    'ADABOOST': AdaBoostClassifier(learning_rate=0.55),\n",
    "    'NAIVE_BAYES': GaussianNB(),\n",
    "    'QUADRATIC_DISCRIMINANT_ANALYSIS': QuadraticDiscriminantAnalysis()\n",
    "}"
   ],
   "metadata": {
    "collapsed": false,
    "ExecuteTime": {
     "end_time": "2023-06-13T16:57:20.412811600Z",
     "start_time": "2023-06-13T16:57:20.383812100Z"
    }
   }
  },
  {
   "cell_type": "code",
   "execution_count": 4,
   "outputs": [],
   "source": [
    "def build_model_return_predictions(model, train_samples, train_classes, test_samples):\n",
    "    classifier = model.fit(train_samples, train_classes)\n",
    "    return classifier.predict(test_samples), classifier\n",
    "\n",
    "def calculate_metrics(y_true, y_pred):\n",
    "    metrics = {}\n",
    "    metrics['accuracy'] = accuracy_score(y_true, y_pred)\n",
    "    metrics['precision'] = precision_score(y_true, y_pred)\n",
    "    metrics['recall'] = recall_score(y_true, y_pred)\n",
    "    metrics['f1_score'] = f1_score(y_true, y_pred)\n",
    "    return metrics"
   ],
   "metadata": {
    "collapsed": false,
    "ExecuteTime": {
     "end_time": "2023-06-13T16:57:21.920569500Z",
     "start_time": "2023-06-13T16:57:21.912575800Z"
    }
   }
  },
  {
   "cell_type": "code",
   "execution_count": 5,
   "outputs": [
    {
     "data": {
      "text/plain": "        tld                              registrar registrant_country  \\\n0      shop       Registrar of domain names REG.RU                 RU   \n1       com                          NameSilo, LLC                 US   \n2       com                          NameSilo, LLC                 US   \n3       com                          NameSilo, LLC                 US   \n4       com                          NameSilo, LLC                 US   \n...     ...                                    ...                ...   \n11108   xyz  Registrar of Domain Names REG.RU, LLC                 PL   \n11109   xyz  Registrar of Domain Names REG.RU, LLC                 PL   \n11110  site                          Name.com, Inc                 UA   \n11111  site                          Name.com, Inc                 UA   \n11112   xyz                          Name.com, Inc                 UA   \n\n       domain_age nameserver_domain   mail_domain  tls_age  tls_issuer  \\\n0             5.0            reg.ru        reg.ru      5.0          R3   \n1            89.0    cloudflare.com  namesilo.com      NaN         NaN   \n2            89.0    cloudflare.com  namesilo.com      7.0          E1   \n3            89.0    cloudflare.com  namesilo.com      6.0  GTS CA 1P5   \n4            89.0    cloudflare.com  namesilo.com      6.0          E1   \n...           ...               ...           ...      ...         ...   \n11108         1.0    cloudflare.com        reg.ru      NaN         NaN   \n11109         1.0    cloudflare.com        reg.ru      1.0  GTS CA 1P5   \n11110       253.0          name.com      name.com      NaN         NaN   \n11111       253.0          name.com      name.com      NaN         NaN   \n11112       296.0          name.com      name.com      NaN         NaN   \n\n       url_len  parameters_len  ...  opening_bracket_percent  \\\n0           21               0  ...                      0.0   \n1           21               0  ...                      0.0   \n2          197             154  ...                      0.0   \n3          210             154  ...                      0.0   \n4          206             154  ...                      0.0   \n...        ...             ...  ...                      ...   \n11108       34               0  ...                      0.0   \n11109       43               0  ...                      0.0   \n11110       32               0  ...                      0.0   \n11111       33               0  ...                      0.0   \n11112       31               0  ...                      0.0   \n\n       closing_bracket_percent  comma_percent  numbers_percent  url_entropy  \\\n0                          0.0            0.0                0     3.558519   \n1                          0.0            0.0                0     3.594466   \n2                          0.0            0.0               60     4.897371   \n3                          0.0            0.0               56     4.990006   \n4                          0.0            0.0               64     4.966357   \n...                        ...            ...              ...          ...   \n11108                      0.0            0.0                8     4.079679   \n11109                      0.0            0.0               10     4.518833   \n11110                      0.0            0.0                0     3.965018   \n11111                      0.0            0.0                0     4.089552   \n11112                      0.0            0.0                1     4.171465   \n\n       is_redirect  subdomain_count  content_link_count  content_img_count  \\\n0             True                2                44.0               17.0   \n1            False                2                 0.0                0.0   \n2             True                2                 0.0                0.0   \n3             True                2                 0.0                0.0   \n4             True                2                 0.0                0.0   \n...            ...              ...                 ...                ...   \n11108         True                3                 1.0                1.0   \n11109        False                3                 0.0                0.0   \n11110        False                3                 0.0                8.0   \n11111        False                3                 0.0                8.0   \n11112        False                3                 0.0                8.0   \n\n              label  \n0      illegitimate  \n1      illegitimate  \n2      illegitimate  \n3      illegitimate  \n4      illegitimate  \n...             ...  \n11108  illegitimate  \n11109  illegitimate  \n11110  illegitimate  \n11111  illegitimate  \n11112  illegitimate  \n\n[11113 rows x 29 columns]",
      "text/html": "<div>\n<style scoped>\n    .dataframe tbody tr th:only-of-type {\n        vertical-align: middle;\n    }\n\n    .dataframe tbody tr th {\n        vertical-align: top;\n    }\n\n    .dataframe thead th {\n        text-align: right;\n    }\n</style>\n<table border=\"1\" class=\"dataframe\">\n  <thead>\n    <tr style=\"text-align: right;\">\n      <th></th>\n      <th>tld</th>\n      <th>registrar</th>\n      <th>registrant_country</th>\n      <th>domain_age</th>\n      <th>nameserver_domain</th>\n      <th>mail_domain</th>\n      <th>tls_age</th>\n      <th>tls_issuer</th>\n      <th>url_len</th>\n      <th>parameters_len</th>\n      <th>...</th>\n      <th>opening_bracket_percent</th>\n      <th>closing_bracket_percent</th>\n      <th>comma_percent</th>\n      <th>numbers_percent</th>\n      <th>url_entropy</th>\n      <th>is_redirect</th>\n      <th>subdomain_count</th>\n      <th>content_link_count</th>\n      <th>content_img_count</th>\n      <th>label</th>\n    </tr>\n  </thead>\n  <tbody>\n    <tr>\n      <th>0</th>\n      <td>shop</td>\n      <td>Registrar of domain names REG.RU</td>\n      <td>RU</td>\n      <td>5.0</td>\n      <td>reg.ru</td>\n      <td>reg.ru</td>\n      <td>5.0</td>\n      <td>R3</td>\n      <td>21</td>\n      <td>0</td>\n      <td>...</td>\n      <td>0.0</td>\n      <td>0.0</td>\n      <td>0.0</td>\n      <td>0</td>\n      <td>3.558519</td>\n      <td>True</td>\n      <td>2</td>\n      <td>44.0</td>\n      <td>17.0</td>\n      <td>illegitimate</td>\n    </tr>\n    <tr>\n      <th>1</th>\n      <td>com</td>\n      <td>NameSilo, LLC</td>\n      <td>US</td>\n      <td>89.0</td>\n      <td>cloudflare.com</td>\n      <td>namesilo.com</td>\n      <td>NaN</td>\n      <td>NaN</td>\n      <td>21</td>\n      <td>0</td>\n      <td>...</td>\n      <td>0.0</td>\n      <td>0.0</td>\n      <td>0.0</td>\n      <td>0</td>\n      <td>3.594466</td>\n      <td>False</td>\n      <td>2</td>\n      <td>0.0</td>\n      <td>0.0</td>\n      <td>illegitimate</td>\n    </tr>\n    <tr>\n      <th>2</th>\n      <td>com</td>\n      <td>NameSilo, LLC</td>\n      <td>US</td>\n      <td>89.0</td>\n      <td>cloudflare.com</td>\n      <td>namesilo.com</td>\n      <td>7.0</td>\n      <td>E1</td>\n      <td>197</td>\n      <td>154</td>\n      <td>...</td>\n      <td>0.0</td>\n      <td>0.0</td>\n      <td>0.0</td>\n      <td>60</td>\n      <td>4.897371</td>\n      <td>True</td>\n      <td>2</td>\n      <td>0.0</td>\n      <td>0.0</td>\n      <td>illegitimate</td>\n    </tr>\n    <tr>\n      <th>3</th>\n      <td>com</td>\n      <td>NameSilo, LLC</td>\n      <td>US</td>\n      <td>89.0</td>\n      <td>cloudflare.com</td>\n      <td>namesilo.com</td>\n      <td>6.0</td>\n      <td>GTS CA 1P5</td>\n      <td>210</td>\n      <td>154</td>\n      <td>...</td>\n      <td>0.0</td>\n      <td>0.0</td>\n      <td>0.0</td>\n      <td>56</td>\n      <td>4.990006</td>\n      <td>True</td>\n      <td>2</td>\n      <td>0.0</td>\n      <td>0.0</td>\n      <td>illegitimate</td>\n    </tr>\n    <tr>\n      <th>4</th>\n      <td>com</td>\n      <td>NameSilo, LLC</td>\n      <td>US</td>\n      <td>89.0</td>\n      <td>cloudflare.com</td>\n      <td>namesilo.com</td>\n      <td>6.0</td>\n      <td>E1</td>\n      <td>206</td>\n      <td>154</td>\n      <td>...</td>\n      <td>0.0</td>\n      <td>0.0</td>\n      <td>0.0</td>\n      <td>64</td>\n      <td>4.966357</td>\n      <td>True</td>\n      <td>2</td>\n      <td>0.0</td>\n      <td>0.0</td>\n      <td>illegitimate</td>\n    </tr>\n    <tr>\n      <th>...</th>\n      <td>...</td>\n      <td>...</td>\n      <td>...</td>\n      <td>...</td>\n      <td>...</td>\n      <td>...</td>\n      <td>...</td>\n      <td>...</td>\n      <td>...</td>\n      <td>...</td>\n      <td>...</td>\n      <td>...</td>\n      <td>...</td>\n      <td>...</td>\n      <td>...</td>\n      <td>...</td>\n      <td>...</td>\n      <td>...</td>\n      <td>...</td>\n      <td>...</td>\n      <td>...</td>\n    </tr>\n    <tr>\n      <th>11108</th>\n      <td>xyz</td>\n      <td>Registrar of Domain Names REG.RU, LLC</td>\n      <td>PL</td>\n      <td>1.0</td>\n      <td>cloudflare.com</td>\n      <td>reg.ru</td>\n      <td>NaN</td>\n      <td>NaN</td>\n      <td>34</td>\n      <td>0</td>\n      <td>...</td>\n      <td>0.0</td>\n      <td>0.0</td>\n      <td>0.0</td>\n      <td>8</td>\n      <td>4.079679</td>\n      <td>True</td>\n      <td>3</td>\n      <td>1.0</td>\n      <td>1.0</td>\n      <td>illegitimate</td>\n    </tr>\n    <tr>\n      <th>11109</th>\n      <td>xyz</td>\n      <td>Registrar of Domain Names REG.RU, LLC</td>\n      <td>PL</td>\n      <td>1.0</td>\n      <td>cloudflare.com</td>\n      <td>reg.ru</td>\n      <td>1.0</td>\n      <td>GTS CA 1P5</td>\n      <td>43</td>\n      <td>0</td>\n      <td>...</td>\n      <td>0.0</td>\n      <td>0.0</td>\n      <td>0.0</td>\n      <td>10</td>\n      <td>4.518833</td>\n      <td>False</td>\n      <td>3</td>\n      <td>0.0</td>\n      <td>0.0</td>\n      <td>illegitimate</td>\n    </tr>\n    <tr>\n      <th>11110</th>\n      <td>site</td>\n      <td>Name.com, Inc</td>\n      <td>UA</td>\n      <td>253.0</td>\n      <td>name.com</td>\n      <td>name.com</td>\n      <td>NaN</td>\n      <td>NaN</td>\n      <td>32</td>\n      <td>0</td>\n      <td>...</td>\n      <td>0.0</td>\n      <td>0.0</td>\n      <td>0.0</td>\n      <td>0</td>\n      <td>3.965018</td>\n      <td>False</td>\n      <td>3</td>\n      <td>0.0</td>\n      <td>8.0</td>\n      <td>illegitimate</td>\n    </tr>\n    <tr>\n      <th>11111</th>\n      <td>site</td>\n      <td>Name.com, Inc</td>\n      <td>UA</td>\n      <td>253.0</td>\n      <td>name.com</td>\n      <td>name.com</td>\n      <td>NaN</td>\n      <td>NaN</td>\n      <td>33</td>\n      <td>0</td>\n      <td>...</td>\n      <td>0.0</td>\n      <td>0.0</td>\n      <td>0.0</td>\n      <td>0</td>\n      <td>4.089552</td>\n      <td>False</td>\n      <td>3</td>\n      <td>0.0</td>\n      <td>8.0</td>\n      <td>illegitimate</td>\n    </tr>\n    <tr>\n      <th>11112</th>\n      <td>xyz</td>\n      <td>Name.com, Inc</td>\n      <td>UA</td>\n      <td>296.0</td>\n      <td>name.com</td>\n      <td>name.com</td>\n      <td>NaN</td>\n      <td>NaN</td>\n      <td>31</td>\n      <td>0</td>\n      <td>...</td>\n      <td>0.0</td>\n      <td>0.0</td>\n      <td>0.0</td>\n      <td>1</td>\n      <td>4.171465</td>\n      <td>False</td>\n      <td>3</td>\n      <td>0.0</td>\n      <td>8.0</td>\n      <td>illegitimate</td>\n    </tr>\n  </tbody>\n</table>\n<p>11113 rows × 29 columns</p>\n</div>"
     },
     "execution_count": 5,
     "metadata": {},
     "output_type": "execute_result"
    }
   ],
   "source": [
    "illegitimate_df = pd.read_csv('../../data/illegitimate_data.csv')\n",
    "illegitimate_df"
   ],
   "metadata": {
    "collapsed": false,
    "ExecuteTime": {
     "end_time": "2023-06-13T16:21:56.596545500Z",
     "start_time": "2023-06-13T16:21:56.514536500Z"
    }
   }
  },
  {
   "cell_type": "code",
   "execution_count": 6,
   "outputs": [
    {
     "data": {
      "text/plain": "          tld                                          registrar  \\\n0         org                                      DreamHost LLC   \n1         org  Webcentral Group Limited dba Melbourne IT (Aus...   \n2         org  Webcentral Group Limited dba Melbourne IT (Aus...   \n3          fr                                        GIP RENATER   \n4         com                             Network Solutions, LLC   \n...       ...                                                ...   \n3430      com                                      NameSilo, LLC   \n3431  academy                                    NameCheap, Inc.   \n3432      com                                Tucows Domains Inc.   \n3433      com                                   GoDaddy.com, LLC   \n3434      com                        CSC Corporate Domains, Inc.   \n\n     registrant_country  domain_age      nameserver_domain  \\\n0                    US      6334.0          dreamhost.com   \n1                    AU      7978.0             afraid.org   \n2                    AU      7978.0             afraid.org   \n3                   NaN     10390.0       polytechnique.fr   \n4                    US      8697.0      dns-solutions.net   \n...                 ...         ...                    ...   \n3430                 US      1421.0         cloudflare.com   \n3431                 IS      2567.0  registrar-servers.com   \n3432                 CA      7487.0         cloudflare.com   \n3433                 US      3503.0         cloudflare.com   \n3434                 US     13263.0              apple.com   \n\n                 mail_domain  tls_age                 tls_issuer  url_len  \\\n0                        NaN      NaN                        NaN       27   \n1                        NaN      NaN                        NaN       49   \n2                        NaN      NaN                        NaN       48   \n3                        NaN      NaN                        NaN       81   \n4                        NaN      NaN                        NaN       31   \n...                      ...      ...                        ...      ...   \n3430            namesilo.com      3.0  Google Trust Services LLC       30   \n3431  withheldforprivacy.com     11.0              Let's Encrypt       79   \n3432              tucows.com    101.0           Cloudflare, Inc.       61   \n3433             godaddy.com    165.0           Cloudflare, Inc.       81   \n3434               apple.com     41.0                 Apple Inc.       30   \n\n      parameters_len  ...  opening_bracket_percent  closing_bracket_percent  \\\n0                  0  ...                      0.0                      0.0   \n1                  0  ...                      0.0                      0.0   \n2                  0  ...                      0.0                      0.0   \n3                  0  ...                      0.0                      0.0   \n4                  0  ...                      0.0                      0.0   \n...              ...  ...                      ...                      ...   \n3430               0  ...                      0.0                      0.0   \n3431               0  ...                      0.0                      0.0   \n3432               0  ...                      0.0                      0.0   \n3433               0  ...                      0.0                      0.0   \n3434               0  ...                      0.0                      0.0   \n\n      comma_percent  numbers_percent  url_entropy  is_redirect  \\\n0               0.0          0.00000     3.912114        False   \n1               0.0          0.00000     4.057961        False   \n2               0.0          0.00000     4.130995        False   \n3               0.0          0.00000     4.609257        False   \n4               0.0          0.00000     3.760017        False   \n...             ...              ...          ...          ...   \n3430            0.0          0.00000     4.056565        False   \n3431            0.0          0.00000     4.206024        False   \n3432            0.0         11.47541     4.587895        False   \n3433            0.0          0.00000     4.197393        False   \n3434            0.0          0.00000     3.707752        False   \n\n      subdomain_count  content_link_count  content_img_count       label  \n0                   1                 4.0               11.0  legitimate  \n1                   1                 0.0               18.0  legitimate  \n2                   1                 0.0               18.0  legitimate  \n3                   2                 0.0                0.0  legitimate  \n4                   1                59.0               54.0  legitimate  \n...               ...                 ...                ...         ...  \n3430                1                43.0               80.0  legitimate  \n3431                1                 0.0                0.0  legitimate  \n3432                1                19.0              346.0  legitimate  \n3433                1                 NaN                NaN  legitimate  \n3434                1                 8.0              127.0  legitimate  \n\n[3435 rows x 29 columns]",
      "text/html": "<div>\n<style scoped>\n    .dataframe tbody tr th:only-of-type {\n        vertical-align: middle;\n    }\n\n    .dataframe tbody tr th {\n        vertical-align: top;\n    }\n\n    .dataframe thead th {\n        text-align: right;\n    }\n</style>\n<table border=\"1\" class=\"dataframe\">\n  <thead>\n    <tr style=\"text-align: right;\">\n      <th></th>\n      <th>tld</th>\n      <th>registrar</th>\n      <th>registrant_country</th>\n      <th>domain_age</th>\n      <th>nameserver_domain</th>\n      <th>mail_domain</th>\n      <th>tls_age</th>\n      <th>tls_issuer</th>\n      <th>url_len</th>\n      <th>parameters_len</th>\n      <th>...</th>\n      <th>opening_bracket_percent</th>\n      <th>closing_bracket_percent</th>\n      <th>comma_percent</th>\n      <th>numbers_percent</th>\n      <th>url_entropy</th>\n      <th>is_redirect</th>\n      <th>subdomain_count</th>\n      <th>content_link_count</th>\n      <th>content_img_count</th>\n      <th>label</th>\n    </tr>\n  </thead>\n  <tbody>\n    <tr>\n      <th>0</th>\n      <td>org</td>\n      <td>DreamHost LLC</td>\n      <td>US</td>\n      <td>6334.0</td>\n      <td>dreamhost.com</td>\n      <td>NaN</td>\n      <td>NaN</td>\n      <td>NaN</td>\n      <td>27</td>\n      <td>0</td>\n      <td>...</td>\n      <td>0.0</td>\n      <td>0.0</td>\n      <td>0.0</td>\n      <td>0.00000</td>\n      <td>3.912114</td>\n      <td>False</td>\n      <td>1</td>\n      <td>4.0</td>\n      <td>11.0</td>\n      <td>legitimate</td>\n    </tr>\n    <tr>\n      <th>1</th>\n      <td>org</td>\n      <td>Webcentral Group Limited dba Melbourne IT (Aus...</td>\n      <td>AU</td>\n      <td>7978.0</td>\n      <td>afraid.org</td>\n      <td>NaN</td>\n      <td>NaN</td>\n      <td>NaN</td>\n      <td>49</td>\n      <td>0</td>\n      <td>...</td>\n      <td>0.0</td>\n      <td>0.0</td>\n      <td>0.0</td>\n      <td>0.00000</td>\n      <td>4.057961</td>\n      <td>False</td>\n      <td>1</td>\n      <td>0.0</td>\n      <td>18.0</td>\n      <td>legitimate</td>\n    </tr>\n    <tr>\n      <th>2</th>\n      <td>org</td>\n      <td>Webcentral Group Limited dba Melbourne IT (Aus...</td>\n      <td>AU</td>\n      <td>7978.0</td>\n      <td>afraid.org</td>\n      <td>NaN</td>\n      <td>NaN</td>\n      <td>NaN</td>\n      <td>48</td>\n      <td>0</td>\n      <td>...</td>\n      <td>0.0</td>\n      <td>0.0</td>\n      <td>0.0</td>\n      <td>0.00000</td>\n      <td>4.130995</td>\n      <td>False</td>\n      <td>1</td>\n      <td>0.0</td>\n      <td>18.0</td>\n      <td>legitimate</td>\n    </tr>\n    <tr>\n      <th>3</th>\n      <td>fr</td>\n      <td>GIP RENATER</td>\n      <td>NaN</td>\n      <td>10390.0</td>\n      <td>polytechnique.fr</td>\n      <td>NaN</td>\n      <td>NaN</td>\n      <td>NaN</td>\n      <td>81</td>\n      <td>0</td>\n      <td>...</td>\n      <td>0.0</td>\n      <td>0.0</td>\n      <td>0.0</td>\n      <td>0.00000</td>\n      <td>4.609257</td>\n      <td>False</td>\n      <td>2</td>\n      <td>0.0</td>\n      <td>0.0</td>\n      <td>legitimate</td>\n    </tr>\n    <tr>\n      <th>4</th>\n      <td>com</td>\n      <td>Network Solutions, LLC</td>\n      <td>US</td>\n      <td>8697.0</td>\n      <td>dns-solutions.net</td>\n      <td>NaN</td>\n      <td>NaN</td>\n      <td>NaN</td>\n      <td>31</td>\n      <td>0</td>\n      <td>...</td>\n      <td>0.0</td>\n      <td>0.0</td>\n      <td>0.0</td>\n      <td>0.00000</td>\n      <td>3.760017</td>\n      <td>False</td>\n      <td>1</td>\n      <td>59.0</td>\n      <td>54.0</td>\n      <td>legitimate</td>\n    </tr>\n    <tr>\n      <th>...</th>\n      <td>...</td>\n      <td>...</td>\n      <td>...</td>\n      <td>...</td>\n      <td>...</td>\n      <td>...</td>\n      <td>...</td>\n      <td>...</td>\n      <td>...</td>\n      <td>...</td>\n      <td>...</td>\n      <td>...</td>\n      <td>...</td>\n      <td>...</td>\n      <td>...</td>\n      <td>...</td>\n      <td>...</td>\n      <td>...</td>\n      <td>...</td>\n      <td>...</td>\n      <td>...</td>\n    </tr>\n    <tr>\n      <th>3430</th>\n      <td>com</td>\n      <td>NameSilo, LLC</td>\n      <td>US</td>\n      <td>1421.0</td>\n      <td>cloudflare.com</td>\n      <td>namesilo.com</td>\n      <td>3.0</td>\n      <td>Google Trust Services LLC</td>\n      <td>30</td>\n      <td>0</td>\n      <td>...</td>\n      <td>0.0</td>\n      <td>0.0</td>\n      <td>0.0</td>\n      <td>0.00000</td>\n      <td>4.056565</td>\n      <td>False</td>\n      <td>1</td>\n      <td>43.0</td>\n      <td>80.0</td>\n      <td>legitimate</td>\n    </tr>\n    <tr>\n      <th>3431</th>\n      <td>academy</td>\n      <td>NameCheap, Inc.</td>\n      <td>IS</td>\n      <td>2567.0</td>\n      <td>registrar-servers.com</td>\n      <td>withheldforprivacy.com</td>\n      <td>11.0</td>\n      <td>Let's Encrypt</td>\n      <td>79</td>\n      <td>0</td>\n      <td>...</td>\n      <td>0.0</td>\n      <td>0.0</td>\n      <td>0.0</td>\n      <td>0.00000</td>\n      <td>4.206024</td>\n      <td>False</td>\n      <td>1</td>\n      <td>0.0</td>\n      <td>0.0</td>\n      <td>legitimate</td>\n    </tr>\n    <tr>\n      <th>3432</th>\n      <td>com</td>\n      <td>Tucows Domains Inc.</td>\n      <td>CA</td>\n      <td>7487.0</td>\n      <td>cloudflare.com</td>\n      <td>tucows.com</td>\n      <td>101.0</td>\n      <td>Cloudflare, Inc.</td>\n      <td>61</td>\n      <td>0</td>\n      <td>...</td>\n      <td>0.0</td>\n      <td>0.0</td>\n      <td>0.0</td>\n      <td>11.47541</td>\n      <td>4.587895</td>\n      <td>False</td>\n      <td>1</td>\n      <td>19.0</td>\n      <td>346.0</td>\n      <td>legitimate</td>\n    </tr>\n    <tr>\n      <th>3433</th>\n      <td>com</td>\n      <td>GoDaddy.com, LLC</td>\n      <td>US</td>\n      <td>3503.0</td>\n      <td>cloudflare.com</td>\n      <td>godaddy.com</td>\n      <td>165.0</td>\n      <td>Cloudflare, Inc.</td>\n      <td>81</td>\n      <td>0</td>\n      <td>...</td>\n      <td>0.0</td>\n      <td>0.0</td>\n      <td>0.0</td>\n      <td>0.00000</td>\n      <td>4.197393</td>\n      <td>False</td>\n      <td>1</td>\n      <td>NaN</td>\n      <td>NaN</td>\n      <td>legitimate</td>\n    </tr>\n    <tr>\n      <th>3434</th>\n      <td>com</td>\n      <td>CSC Corporate Domains, Inc.</td>\n      <td>US</td>\n      <td>13263.0</td>\n      <td>apple.com</td>\n      <td>apple.com</td>\n      <td>41.0</td>\n      <td>Apple Inc.</td>\n      <td>30</td>\n      <td>0</td>\n      <td>...</td>\n      <td>0.0</td>\n      <td>0.0</td>\n      <td>0.0</td>\n      <td>0.00000</td>\n      <td>3.707752</td>\n      <td>False</td>\n      <td>1</td>\n      <td>8.0</td>\n      <td>127.0</td>\n      <td>legitimate</td>\n    </tr>\n  </tbody>\n</table>\n<p>3435 rows × 29 columns</p>\n</div>"
     },
     "execution_count": 6,
     "metadata": {},
     "output_type": "execute_result"
    }
   ],
   "source": [
    "legitimate_df = pd.read_csv('../../data/legitimate_data.csv')\n",
    "legitimate_df.drop('url', axis=1, inplace=True)\n",
    "legitimate_df"
   ],
   "metadata": {
    "collapsed": false,
    "ExecuteTime": {
     "end_time": "2023-06-13T16:21:56.822541800Z",
     "start_time": "2023-06-13T16:21:56.597538200Z"
    }
   }
  },
  {
   "cell_type": "code",
   "execution_count": 7,
   "outputs": [
    {
     "data": {
      "text/plain": "          tld                         registrar registrant_country  \\\n0        shop  Registrar of domain names REG.RU                 RU   \n1         com                     NameSilo, LLC                 US   \n2         com                     NameSilo, LLC                 US   \n3         com                     NameSilo, LLC                 US   \n4         com                     NameSilo, LLC                 US   \n...       ...                               ...                ...   \n3430      com                     NameSilo, LLC                 US   \n3431  academy                   NameCheap, Inc.                 IS   \n3432      com               Tucows Domains Inc.                 CA   \n3433      com                  GoDaddy.com, LLC                 US   \n3434      com       CSC Corporate Domains, Inc.                 US   \n\n      domain_age      nameserver_domain             mail_domain  tls_age  \\\n0            5.0                 reg.ru                  reg.ru      5.0   \n1           89.0         cloudflare.com            namesilo.com      NaN   \n2           89.0         cloudflare.com            namesilo.com      7.0   \n3           89.0         cloudflare.com            namesilo.com      6.0   \n4           89.0         cloudflare.com            namesilo.com      6.0   \n...          ...                    ...                     ...      ...   \n3430      1421.0         cloudflare.com            namesilo.com      3.0   \n3431      2567.0  registrar-servers.com  withheldforprivacy.com     11.0   \n3432      7487.0         cloudflare.com              tucows.com    101.0   \n3433      3503.0         cloudflare.com             godaddy.com    165.0   \n3434     13263.0              apple.com               apple.com     41.0   \n\n                     tls_issuer  url_len  parameters_len  ...  \\\n0                            R3       21               0  ...   \n1                           NaN       21               0  ...   \n2                            E1      197             154  ...   \n3                    GTS CA 1P5      210             154  ...   \n4                            E1      206             154  ...   \n...                         ...      ...             ...  ...   \n3430  Google Trust Services LLC       30               0  ...   \n3431              Let's Encrypt       79               0  ...   \n3432           Cloudflare, Inc.       61               0  ...   \n3433           Cloudflare, Inc.       81               0  ...   \n3434                 Apple Inc.       30               0  ...   \n\n      opening_bracket_percent  closing_bracket_percent  comma_percent  \\\n0                         0.0                      0.0            0.0   \n1                         0.0                      0.0            0.0   \n2                         0.0                      0.0            0.0   \n3                         0.0                      0.0            0.0   \n4                         0.0                      0.0            0.0   \n...                       ...                      ...            ...   \n3430                      0.0                      0.0            0.0   \n3431                      0.0                      0.0            0.0   \n3432                      0.0                      0.0            0.0   \n3433                      0.0                      0.0            0.0   \n3434                      0.0                      0.0            0.0   \n\n      numbers_percent  url_entropy  is_redirect  subdomain_count  \\\n0             0.00000     3.558519         True                2   \n1             0.00000     3.594466        False                2   \n2            60.00000     4.897371         True                2   \n3            56.00000     4.990006         True                2   \n4            64.00000     4.966357         True                2   \n...               ...          ...          ...              ...   \n3430          0.00000     4.056565        False                1   \n3431          0.00000     4.206024        False                1   \n3432         11.47541     4.587895        False                1   \n3433          0.00000     4.197393        False                1   \n3434          0.00000     3.707752        False                1   \n\n      content_link_count  content_img_count         label  \n0                   44.0               17.0  illegitimate  \n1                    0.0                0.0  illegitimate  \n2                    0.0                0.0  illegitimate  \n3                    0.0                0.0  illegitimate  \n4                    0.0                0.0  illegitimate  \n...                  ...                ...           ...  \n3430                43.0               80.0    legitimate  \n3431                 0.0                0.0    legitimate  \n3432                19.0              346.0    legitimate  \n3433                 NaN                NaN    legitimate  \n3434                 8.0              127.0    legitimate  \n\n[14548 rows x 29 columns]",
      "text/html": "<div>\n<style scoped>\n    .dataframe tbody tr th:only-of-type {\n        vertical-align: middle;\n    }\n\n    .dataframe tbody tr th {\n        vertical-align: top;\n    }\n\n    .dataframe thead th {\n        text-align: right;\n    }\n</style>\n<table border=\"1\" class=\"dataframe\">\n  <thead>\n    <tr style=\"text-align: right;\">\n      <th></th>\n      <th>tld</th>\n      <th>registrar</th>\n      <th>registrant_country</th>\n      <th>domain_age</th>\n      <th>nameserver_domain</th>\n      <th>mail_domain</th>\n      <th>tls_age</th>\n      <th>tls_issuer</th>\n      <th>url_len</th>\n      <th>parameters_len</th>\n      <th>...</th>\n      <th>opening_bracket_percent</th>\n      <th>closing_bracket_percent</th>\n      <th>comma_percent</th>\n      <th>numbers_percent</th>\n      <th>url_entropy</th>\n      <th>is_redirect</th>\n      <th>subdomain_count</th>\n      <th>content_link_count</th>\n      <th>content_img_count</th>\n      <th>label</th>\n    </tr>\n  </thead>\n  <tbody>\n    <tr>\n      <th>0</th>\n      <td>shop</td>\n      <td>Registrar of domain names REG.RU</td>\n      <td>RU</td>\n      <td>5.0</td>\n      <td>reg.ru</td>\n      <td>reg.ru</td>\n      <td>5.0</td>\n      <td>R3</td>\n      <td>21</td>\n      <td>0</td>\n      <td>...</td>\n      <td>0.0</td>\n      <td>0.0</td>\n      <td>0.0</td>\n      <td>0.00000</td>\n      <td>3.558519</td>\n      <td>True</td>\n      <td>2</td>\n      <td>44.0</td>\n      <td>17.0</td>\n      <td>illegitimate</td>\n    </tr>\n    <tr>\n      <th>1</th>\n      <td>com</td>\n      <td>NameSilo, LLC</td>\n      <td>US</td>\n      <td>89.0</td>\n      <td>cloudflare.com</td>\n      <td>namesilo.com</td>\n      <td>NaN</td>\n      <td>NaN</td>\n      <td>21</td>\n      <td>0</td>\n      <td>...</td>\n      <td>0.0</td>\n      <td>0.0</td>\n      <td>0.0</td>\n      <td>0.00000</td>\n      <td>3.594466</td>\n      <td>False</td>\n      <td>2</td>\n      <td>0.0</td>\n      <td>0.0</td>\n      <td>illegitimate</td>\n    </tr>\n    <tr>\n      <th>2</th>\n      <td>com</td>\n      <td>NameSilo, LLC</td>\n      <td>US</td>\n      <td>89.0</td>\n      <td>cloudflare.com</td>\n      <td>namesilo.com</td>\n      <td>7.0</td>\n      <td>E1</td>\n      <td>197</td>\n      <td>154</td>\n      <td>...</td>\n      <td>0.0</td>\n      <td>0.0</td>\n      <td>0.0</td>\n      <td>60.00000</td>\n      <td>4.897371</td>\n      <td>True</td>\n      <td>2</td>\n      <td>0.0</td>\n      <td>0.0</td>\n      <td>illegitimate</td>\n    </tr>\n    <tr>\n      <th>3</th>\n      <td>com</td>\n      <td>NameSilo, LLC</td>\n      <td>US</td>\n      <td>89.0</td>\n      <td>cloudflare.com</td>\n      <td>namesilo.com</td>\n      <td>6.0</td>\n      <td>GTS CA 1P5</td>\n      <td>210</td>\n      <td>154</td>\n      <td>...</td>\n      <td>0.0</td>\n      <td>0.0</td>\n      <td>0.0</td>\n      <td>56.00000</td>\n      <td>4.990006</td>\n      <td>True</td>\n      <td>2</td>\n      <td>0.0</td>\n      <td>0.0</td>\n      <td>illegitimate</td>\n    </tr>\n    <tr>\n      <th>4</th>\n      <td>com</td>\n      <td>NameSilo, LLC</td>\n      <td>US</td>\n      <td>89.0</td>\n      <td>cloudflare.com</td>\n      <td>namesilo.com</td>\n      <td>6.0</td>\n      <td>E1</td>\n      <td>206</td>\n      <td>154</td>\n      <td>...</td>\n      <td>0.0</td>\n      <td>0.0</td>\n      <td>0.0</td>\n      <td>64.00000</td>\n      <td>4.966357</td>\n      <td>True</td>\n      <td>2</td>\n      <td>0.0</td>\n      <td>0.0</td>\n      <td>illegitimate</td>\n    </tr>\n    <tr>\n      <th>...</th>\n      <td>...</td>\n      <td>...</td>\n      <td>...</td>\n      <td>...</td>\n      <td>...</td>\n      <td>...</td>\n      <td>...</td>\n      <td>...</td>\n      <td>...</td>\n      <td>...</td>\n      <td>...</td>\n      <td>...</td>\n      <td>...</td>\n      <td>...</td>\n      <td>...</td>\n      <td>...</td>\n      <td>...</td>\n      <td>...</td>\n      <td>...</td>\n      <td>...</td>\n      <td>...</td>\n    </tr>\n    <tr>\n      <th>3430</th>\n      <td>com</td>\n      <td>NameSilo, LLC</td>\n      <td>US</td>\n      <td>1421.0</td>\n      <td>cloudflare.com</td>\n      <td>namesilo.com</td>\n      <td>3.0</td>\n      <td>Google Trust Services LLC</td>\n      <td>30</td>\n      <td>0</td>\n      <td>...</td>\n      <td>0.0</td>\n      <td>0.0</td>\n      <td>0.0</td>\n      <td>0.00000</td>\n      <td>4.056565</td>\n      <td>False</td>\n      <td>1</td>\n      <td>43.0</td>\n      <td>80.0</td>\n      <td>legitimate</td>\n    </tr>\n    <tr>\n      <th>3431</th>\n      <td>academy</td>\n      <td>NameCheap, Inc.</td>\n      <td>IS</td>\n      <td>2567.0</td>\n      <td>registrar-servers.com</td>\n      <td>withheldforprivacy.com</td>\n      <td>11.0</td>\n      <td>Let's Encrypt</td>\n      <td>79</td>\n      <td>0</td>\n      <td>...</td>\n      <td>0.0</td>\n      <td>0.0</td>\n      <td>0.0</td>\n      <td>0.00000</td>\n      <td>4.206024</td>\n      <td>False</td>\n      <td>1</td>\n      <td>0.0</td>\n      <td>0.0</td>\n      <td>legitimate</td>\n    </tr>\n    <tr>\n      <th>3432</th>\n      <td>com</td>\n      <td>Tucows Domains Inc.</td>\n      <td>CA</td>\n      <td>7487.0</td>\n      <td>cloudflare.com</td>\n      <td>tucows.com</td>\n      <td>101.0</td>\n      <td>Cloudflare, Inc.</td>\n      <td>61</td>\n      <td>0</td>\n      <td>...</td>\n      <td>0.0</td>\n      <td>0.0</td>\n      <td>0.0</td>\n      <td>11.47541</td>\n      <td>4.587895</td>\n      <td>False</td>\n      <td>1</td>\n      <td>19.0</td>\n      <td>346.0</td>\n      <td>legitimate</td>\n    </tr>\n    <tr>\n      <th>3433</th>\n      <td>com</td>\n      <td>GoDaddy.com, LLC</td>\n      <td>US</td>\n      <td>3503.0</td>\n      <td>cloudflare.com</td>\n      <td>godaddy.com</td>\n      <td>165.0</td>\n      <td>Cloudflare, Inc.</td>\n      <td>81</td>\n      <td>0</td>\n      <td>...</td>\n      <td>0.0</td>\n      <td>0.0</td>\n      <td>0.0</td>\n      <td>0.00000</td>\n      <td>4.197393</td>\n      <td>False</td>\n      <td>1</td>\n      <td>NaN</td>\n      <td>NaN</td>\n      <td>legitimate</td>\n    </tr>\n    <tr>\n      <th>3434</th>\n      <td>com</td>\n      <td>CSC Corporate Domains, Inc.</td>\n      <td>US</td>\n      <td>13263.0</td>\n      <td>apple.com</td>\n      <td>apple.com</td>\n      <td>41.0</td>\n      <td>Apple Inc.</td>\n      <td>30</td>\n      <td>0</td>\n      <td>...</td>\n      <td>0.0</td>\n      <td>0.0</td>\n      <td>0.0</td>\n      <td>0.00000</td>\n      <td>3.707752</td>\n      <td>False</td>\n      <td>1</td>\n      <td>8.0</td>\n      <td>127.0</td>\n      <td>legitimate</td>\n    </tr>\n  </tbody>\n</table>\n<p>14548 rows × 29 columns</p>\n</div>"
     },
     "execution_count": 7,
     "metadata": {},
     "output_type": "execute_result"
    }
   ],
   "source": [
    "all_df = pd.concat([illegitimate_df, legitimate_df])\n",
    "all_df"
   ],
   "metadata": {
    "collapsed": false,
    "ExecuteTime": {
     "end_time": "2023-06-13T16:21:56.823539100Z",
     "start_time": "2023-06-13T16:21:56.727543300Z"
    }
   }
  },
  {
   "cell_type": "markdown",
   "source": [
    "## Zamiana feature'ów tekstowych na liczbowe"
   ],
   "metadata": {
    "collapsed": false
   }
  },
  {
   "cell_type": "code",
   "execution_count": 8,
   "outputs": [
    {
     "data": {
      "text/plain": "      tld  registrar  registrant_country  domain_age  nameserver_domain  \\\n0       0          0                   0         5.0                  0   \n1       1          1                   1        89.0                  1   \n2       1          1                   1        89.0                  1   \n3       1          1                   1        89.0                  1   \n4       1          1                   1        89.0                  1   \n...   ...        ...                 ...         ...                ...   \n3430    1          1                   1      1421.0                  1   \n3431  149          7                   2      2567.0                  8   \n3432    1         10                  12      7487.0                  1   \n3433    1         12                   1      3503.0                  1   \n3434    1         24                   1     13263.0                275   \n\n      mail_domain  tls_age  tls_issuer  url_len  parameters_len  ...  \\\n0               0      5.0           0       21               0  ...   \n1               1     -1.0           1       21               0  ...   \n2               1      7.0           2      197             154  ...   \n3               1      6.0           3      210             154  ...   \n4               1      6.0           2      206             154  ...   \n...           ...      ...         ...      ...             ...  ...   \n3430            1      3.0          55       30               0  ...   \n3431            7     11.0          63       79               0  ...   \n3432            8    101.0          61       61               0  ...   \n3433           10    165.0          61       81               0  ...   \n3434          178     41.0          76       30               0  ...   \n\n      opening_bracket_percent  closing_bracket_percent  comma_percent  \\\n0                         0.0                      0.0            0.0   \n1                         0.0                      0.0            0.0   \n2                         0.0                      0.0            0.0   \n3                         0.0                      0.0            0.0   \n4                         0.0                      0.0            0.0   \n...                       ...                      ...            ...   \n3430                      0.0                      0.0            0.0   \n3431                      0.0                      0.0            0.0   \n3432                      0.0                      0.0            0.0   \n3433                      0.0                      0.0            0.0   \n3434                      0.0                      0.0            0.0   \n\n      numbers_percent  url_entropy  is_redirect  subdomain_count  \\\n0             0.00000     3.558519            0                2   \n1             0.00000     3.594466            1                2   \n2            60.00000     4.897371            0                2   \n3            56.00000     4.990006            0                2   \n4            64.00000     4.966357            0                2   \n...               ...          ...          ...              ...   \n3430          0.00000     4.056565            1                1   \n3431          0.00000     4.206024            1                1   \n3432         11.47541     4.587895            1                1   \n3433          0.00000     4.197393            1                1   \n3434          0.00000     3.707752            1                1   \n\n      content_link_count  content_img_count  label  \n0                   44.0               17.0      1  \n1                    0.0                0.0      1  \n2                    0.0                0.0      1  \n3                    0.0                0.0      1  \n4                    0.0                0.0      1  \n...                  ...                ...    ...  \n3430                43.0               80.0      0  \n3431                 0.0                0.0      0  \n3432                19.0              346.0      0  \n3433                -1.0               -1.0      0  \n3434                 8.0              127.0      0  \n\n[14548 rows x 29 columns]",
      "text/html": "<div>\n<style scoped>\n    .dataframe tbody tr th:only-of-type {\n        vertical-align: middle;\n    }\n\n    .dataframe tbody tr th {\n        vertical-align: top;\n    }\n\n    .dataframe thead th {\n        text-align: right;\n    }\n</style>\n<table border=\"1\" class=\"dataframe\">\n  <thead>\n    <tr style=\"text-align: right;\">\n      <th></th>\n      <th>tld</th>\n      <th>registrar</th>\n      <th>registrant_country</th>\n      <th>domain_age</th>\n      <th>nameserver_domain</th>\n      <th>mail_domain</th>\n      <th>tls_age</th>\n      <th>tls_issuer</th>\n      <th>url_len</th>\n      <th>parameters_len</th>\n      <th>...</th>\n      <th>opening_bracket_percent</th>\n      <th>closing_bracket_percent</th>\n      <th>comma_percent</th>\n      <th>numbers_percent</th>\n      <th>url_entropy</th>\n      <th>is_redirect</th>\n      <th>subdomain_count</th>\n      <th>content_link_count</th>\n      <th>content_img_count</th>\n      <th>label</th>\n    </tr>\n  </thead>\n  <tbody>\n    <tr>\n      <th>0</th>\n      <td>0</td>\n      <td>0</td>\n      <td>0</td>\n      <td>5.0</td>\n      <td>0</td>\n      <td>0</td>\n      <td>5.0</td>\n      <td>0</td>\n      <td>21</td>\n      <td>0</td>\n      <td>...</td>\n      <td>0.0</td>\n      <td>0.0</td>\n      <td>0.0</td>\n      <td>0.00000</td>\n      <td>3.558519</td>\n      <td>0</td>\n      <td>2</td>\n      <td>44.0</td>\n      <td>17.0</td>\n      <td>1</td>\n    </tr>\n    <tr>\n      <th>1</th>\n      <td>1</td>\n      <td>1</td>\n      <td>1</td>\n      <td>89.0</td>\n      <td>1</td>\n      <td>1</td>\n      <td>-1.0</td>\n      <td>1</td>\n      <td>21</td>\n      <td>0</td>\n      <td>...</td>\n      <td>0.0</td>\n      <td>0.0</td>\n      <td>0.0</td>\n      <td>0.00000</td>\n      <td>3.594466</td>\n      <td>1</td>\n      <td>2</td>\n      <td>0.0</td>\n      <td>0.0</td>\n      <td>1</td>\n    </tr>\n    <tr>\n      <th>2</th>\n      <td>1</td>\n      <td>1</td>\n      <td>1</td>\n      <td>89.0</td>\n      <td>1</td>\n      <td>1</td>\n      <td>7.0</td>\n      <td>2</td>\n      <td>197</td>\n      <td>154</td>\n      <td>...</td>\n      <td>0.0</td>\n      <td>0.0</td>\n      <td>0.0</td>\n      <td>60.00000</td>\n      <td>4.897371</td>\n      <td>0</td>\n      <td>2</td>\n      <td>0.0</td>\n      <td>0.0</td>\n      <td>1</td>\n    </tr>\n    <tr>\n      <th>3</th>\n      <td>1</td>\n      <td>1</td>\n      <td>1</td>\n      <td>89.0</td>\n      <td>1</td>\n      <td>1</td>\n      <td>6.0</td>\n      <td>3</td>\n      <td>210</td>\n      <td>154</td>\n      <td>...</td>\n      <td>0.0</td>\n      <td>0.0</td>\n      <td>0.0</td>\n      <td>56.00000</td>\n      <td>4.990006</td>\n      <td>0</td>\n      <td>2</td>\n      <td>0.0</td>\n      <td>0.0</td>\n      <td>1</td>\n    </tr>\n    <tr>\n      <th>4</th>\n      <td>1</td>\n      <td>1</td>\n      <td>1</td>\n      <td>89.0</td>\n      <td>1</td>\n      <td>1</td>\n      <td>6.0</td>\n      <td>2</td>\n      <td>206</td>\n      <td>154</td>\n      <td>...</td>\n      <td>0.0</td>\n      <td>0.0</td>\n      <td>0.0</td>\n      <td>64.00000</td>\n      <td>4.966357</td>\n      <td>0</td>\n      <td>2</td>\n      <td>0.0</td>\n      <td>0.0</td>\n      <td>1</td>\n    </tr>\n    <tr>\n      <th>...</th>\n      <td>...</td>\n      <td>...</td>\n      <td>...</td>\n      <td>...</td>\n      <td>...</td>\n      <td>...</td>\n      <td>...</td>\n      <td>...</td>\n      <td>...</td>\n      <td>...</td>\n      <td>...</td>\n      <td>...</td>\n      <td>...</td>\n      <td>...</td>\n      <td>...</td>\n      <td>...</td>\n      <td>...</td>\n      <td>...</td>\n      <td>...</td>\n      <td>...</td>\n      <td>...</td>\n    </tr>\n    <tr>\n      <th>3430</th>\n      <td>1</td>\n      <td>1</td>\n      <td>1</td>\n      <td>1421.0</td>\n      <td>1</td>\n      <td>1</td>\n      <td>3.0</td>\n      <td>55</td>\n      <td>30</td>\n      <td>0</td>\n      <td>...</td>\n      <td>0.0</td>\n      <td>0.0</td>\n      <td>0.0</td>\n      <td>0.00000</td>\n      <td>4.056565</td>\n      <td>1</td>\n      <td>1</td>\n      <td>43.0</td>\n      <td>80.0</td>\n      <td>0</td>\n    </tr>\n    <tr>\n      <th>3431</th>\n      <td>149</td>\n      <td>7</td>\n      <td>2</td>\n      <td>2567.0</td>\n      <td>8</td>\n      <td>7</td>\n      <td>11.0</td>\n      <td>63</td>\n      <td>79</td>\n      <td>0</td>\n      <td>...</td>\n      <td>0.0</td>\n      <td>0.0</td>\n      <td>0.0</td>\n      <td>0.00000</td>\n      <td>4.206024</td>\n      <td>1</td>\n      <td>1</td>\n      <td>0.0</td>\n      <td>0.0</td>\n      <td>0</td>\n    </tr>\n    <tr>\n      <th>3432</th>\n      <td>1</td>\n      <td>10</td>\n      <td>12</td>\n      <td>7487.0</td>\n      <td>1</td>\n      <td>8</td>\n      <td>101.0</td>\n      <td>61</td>\n      <td>61</td>\n      <td>0</td>\n      <td>...</td>\n      <td>0.0</td>\n      <td>0.0</td>\n      <td>0.0</td>\n      <td>11.47541</td>\n      <td>4.587895</td>\n      <td>1</td>\n      <td>1</td>\n      <td>19.0</td>\n      <td>346.0</td>\n      <td>0</td>\n    </tr>\n    <tr>\n      <th>3433</th>\n      <td>1</td>\n      <td>12</td>\n      <td>1</td>\n      <td>3503.0</td>\n      <td>1</td>\n      <td>10</td>\n      <td>165.0</td>\n      <td>61</td>\n      <td>81</td>\n      <td>0</td>\n      <td>...</td>\n      <td>0.0</td>\n      <td>0.0</td>\n      <td>0.0</td>\n      <td>0.00000</td>\n      <td>4.197393</td>\n      <td>1</td>\n      <td>1</td>\n      <td>-1.0</td>\n      <td>-1.0</td>\n      <td>0</td>\n    </tr>\n    <tr>\n      <th>3434</th>\n      <td>1</td>\n      <td>24</td>\n      <td>1</td>\n      <td>13263.0</td>\n      <td>275</td>\n      <td>178</td>\n      <td>41.0</td>\n      <td>76</td>\n      <td>30</td>\n      <td>0</td>\n      <td>...</td>\n      <td>0.0</td>\n      <td>0.0</td>\n      <td>0.0</td>\n      <td>0.00000</td>\n      <td>3.707752</td>\n      <td>1</td>\n      <td>1</td>\n      <td>8.0</td>\n      <td>127.0</td>\n      <td>0</td>\n    </tr>\n  </tbody>\n</table>\n<p>14548 rows × 29 columns</p>\n</div>"
     },
     "execution_count": 8,
     "metadata": {},
     "output_type": "execute_result"
    }
   ],
   "source": [
    "all_df_ml_ready = all_df.copy()\n",
    "#TODO możliwe że tu trzeba inaczej zamienić na liczbowe - nie wiem czy to jest ok, ktoś musi sprawdzić\n",
    "all_df_ml_ready['label'] = all_df_ml_ready['label'].replace({'illegitimate': 1, 'legitimate': 0})\n",
    "all_df_ml_ready = all_df_ml_ready.fillna(-1)\n",
    "for col in all_df_ml_ready.columns:\n",
    "    if all_df_ml_ready[col].dtype == object:  # Only apply to object (string) columns\n",
    "        labels, uniques = pd.factorize(all_df_ml_ready[col])\n",
    "        all_df_ml_ready[col] = labels\n",
    "all_df_ml_ready"
   ],
   "metadata": {
    "collapsed": false,
    "ExecuteTime": {
     "end_time": "2023-06-13T16:21:56.890535800Z",
     "start_time": "2023-06-13T16:21:56.774542700Z"
    }
   }
  },
  {
   "cell_type": "markdown",
   "source": [
    "# TODO chłopaki\n",
    "statystyki z pól df\n",
    "z danych liczbowych jakieś wykresy/histogramy\n",
    "z tekstowych policzenie\n",
    "tabelka z podsumowaniem\n",
    "tabelka korelacji parametrów\n",
    "jak parametr zbyt płaski to może x^2"
   ],
   "metadata": {
    "collapsed": false
   }
  },
  {
   "cell_type": "code",
   "execution_count": 13,
   "outputs": [],
   "source": [
    "TRAIN_SAMPLES_FRACTION = 0.9\n",
    "# Separate the features and target variable\n",
    "features = all_df_ml_ready[all_df_ml_ready.columns.difference(['label'])]\n",
    "classes = all_df_ml_ready['label']\n",
    "\n",
    "# Split the data into training and testing datasets\n",
    "features_train, features_test, classes_train, classes_test = train_test_split(features, classes, test_size=TRAIN_SAMPLES_FRACTION, random_state=42)"
   ],
   "metadata": {
    "collapsed": false,
    "ExecuteTime": {
     "end_time": "2023-06-13T16:23:40.611501700Z",
     "start_time": "2023-06-13T16:23:40.594491500Z"
    }
   }
  },
  {
   "cell_type": "code",
   "execution_count": 14,
   "outputs": [
    {
     "name": "stdout",
     "output_type": "stream",
     "text": [
      "DECISION_TREE\n",
      "{'accuracy': 0.9992362914311899, 'precision': 0.9992007992007992, 'recall': 0.9998000799680128, 'f1_score': 0.9995003497551713}\n",
      "RANDOM_FOREST\n",
      "{'accuracy': 0.999694516572476, 'precision': 0.9996003197442046, 'recall': 1.0, 'f1_score': 0.9998001199280432}\n",
      "NEURAL_NETWORK\n",
      "{'accuracy': 0.9628073926989461, 'precision': 0.9959353830119854, 'recall': 0.955217912834866, 'f1_score': 0.97515179345885}\n",
      "K_NEIGHBORS\n",
      "{'accuracy': 0.9479914464640293, 'precision': 0.9556250610888476, 'recall': 0.9773090763694522, 'f1_score': 0.9663454410674573}\n",
      "SUPPORT_VECTOR_MACHINE\n",
      "{'accuracy': 0.8661218878875822, 'precision': 0.881955374502361, 'recall': 0.952219112355058, 'f1_score': 0.9157414083153089}\n",
      "ADABOOST\n",
      "{'accuracy': 0.9992362914311899, 'precision': 0.9992007992007992, 'recall': 0.9998000799680128, 'f1_score': 0.9995003497551713}\n",
      "NAIVE_BAYES\n",
      "{'accuracy': 0.9896899343210631, 'precision': 0.9966784096628083, 'recall': 0.9898040783686526, 'f1_score': 0.9932293495160239}\n",
      "QUADRATIC_DISCRIMINANT_ANALYSIS\n",
      "{'accuracy': 0.952115472735604, 'precision': 0.9453785503942244, 'recall': 0.9948020791683326, 'f1_score': 0.9694608153523939}\n"
     ]
    },
    {
     "name": "stderr",
     "output_type": "stream",
     "text": [
      "D:\\Dev\\Github\\antiGrandmaScammer\\venv\\lib\\site-packages\\sklearn\\discriminant_analysis.py:926: UserWarning: Variables are collinear\n",
      "  warnings.warn(\"Variables are collinear\")\n"
     ]
    }
   ],
   "source": [
    "for model_name in AVAILABLE_MODELS:\n",
    "    prediction_model = AVAILABLE_MODELS[model_name]\n",
    "    predictions, model = build_model_return_predictions(prediction_model, features_train, classes_train, features_test)\n",
    "    metrics = calculate_metrics(classes_test, predictions)\n",
    "    print(model_name)\n",
    "    print(metrics)"
   ],
   "metadata": {
    "collapsed": false,
    "ExecuteTime": {
     "end_time": "2023-06-13T16:23:43.472334200Z",
     "start_time": "2023-06-13T16:23:41.070339400Z"
    }
   }
  },
  {
   "cell_type": "markdown",
   "source": [
    "# TODO chłopaki\n",
    "modele się mega przeuczają, trzeba sprawdzić przez jaki parametr tak jest, może obciąć zbiór wejściowy z jakiś gówno danych. Jak dane będą przefiltrowane i wciąż się będzie przeuczał to dropujecie kolumny sprawdzając czy jak ich nie ma to jest dużo gorzej, powinniście znaleźć jedną/parę po których usunięciu model stanie się gównem - o to chodzi"
   ],
   "metadata": {
    "collapsed": false
   }
  },
  {
   "cell_type": "code",
   "execution_count": null,
   "outputs": [],
   "source": [],
   "metadata": {
    "collapsed": false
   }
  }
 ],
 "metadata": {
  "kernelspec": {
   "name": "python3",
   "language": "python",
   "display_name": "Python 3 (ipykernel)"
  },
  "language_info": {
   "codemirror_mode": {
    "name": "ipython",
    "version": 2
   },
   "file_extension": ".py",
   "mimetype": "text/x-python",
   "name": "python",
   "nbconvert_exporter": "python",
   "pygments_lexer": "ipython2",
   "version": "2.7.6"
  }
 },
 "nbformat": 4,
 "nbformat_minor": 0
}
